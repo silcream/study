{
 "cells": [
  {
   "cell_type": "code",
   "execution_count": 2,
   "id": "53c20369",
   "metadata": {},
   "outputs": [],
   "source": [
    "import warnings\n",
    "warnings.filterwarnings('ignore')"
   ]
  },
  {
   "cell_type": "code",
   "execution_count": 9,
   "id": "c684eff3",
   "metadata": {},
   "outputs": [],
   "source": [
    "import numpy as np\n",
    "import random"
   ]
  },
  {
   "cell_type": "code",
   "execution_count": 10,
   "id": "6ac1870f",
   "metadata": {},
   "outputs": [
    {
     "name": "stdout",
     "output_type": "stream",
     "text": [
      "[ 1  2  3  4  5  6  7  8  9 10 11 12 13 14 15 16 17 18 19 20 21 22 23 24\n",
      " 25 26 27 28 29 30 31 32 33 34 35 36 37 38 39 40 41 42 43 44 45]\n"
     ]
    }
   ],
   "source": [
    "a = np.arange(1, 46)\n",
    "print(a)"
   ]
  },
  {
   "cell_type": "code",
   "execution_count": 40,
   "id": "c1e06fd9",
   "metadata": {},
   "outputs": [
    {
     "name": "stdout",
     "output_type": "stream",
     "text": [
      "lotto =  [17, 28, 15, 34, 16, 30]\n"
     ]
    }
   ],
   "source": [
    "np.random.seed(85)\n",
    "lotto = []\n",
    "np.random.shuffle(a)\n",
    "a = a[:7]\n",
    "for i in range(6):\n",
    "    lotto.append(a[i])\n",
    "print('lotto = ', lotto)"
   ]
  },
  {
   "cell_type": "code",
   "execution_count": 58,
   "id": "18bc6981",
   "metadata": {},
   "outputs": [
    {
     "name": "stdout",
     "output_type": "stream",
     "text": [
      "lotto =  [15, 16, 17, 28, 30, 34] 추가번호 =  6\n"
     ]
    }
   ],
   "source": [
    "lotto.sort()\n",
    "a = np.arange(1, 46)\n",
    "np.random.shuffle(a)\n",
    "b = a[7]\n",
    "print('lotto = ', lotto, '추가번호 = ', b)"
   ]
  },
  {
   "cell_type": "code",
   "execution_count": 61,
   "id": "881b0d74",
   "metadata": {},
   "outputs": [
    {
     "name": "stdout",
     "output_type": "stream",
     "text": [
      "[[ 0  1  2  3  4]\n",
      " [ 5  6  7  8  9]\n",
      " [10 11 12 13 14]\n",
      " [15 16 17 18 19]\n",
      " [20 21 22 23 24]]\n"
     ]
    }
   ],
   "source": [
    "c = np.array(range(25)).reshape((5, 5))\n",
    "print(c)"
   ]
  },
  {
   "cell_type": "code",
   "execution_count": 68,
   "id": "ff058dc7",
   "metadata": {},
   "outputs": [
    {
     "name": "stdout",
     "output_type": "stream",
     "text": [
      "첫 원소 :  0\n",
      "마지막 원소 :  24\n"
     ]
    }
   ],
   "source": [
    "print('첫 원소 : ', c[0][0])\n",
    "print('마지막 원소 : ', c[-1][-1])"
   ]
  },
  {
   "cell_type": "code",
   "execution_count": 73,
   "id": "8e906329",
   "metadata": {},
   "outputs": [
    {
     "name": "stdout",
     "output_type": "stream",
     "text": [
      "[[0 1 2 3 4]\n",
      " [5 6 7 8 9]]\n"
     ]
    }
   ],
   "source": [
    "print(c[0:2])"
   ]
  },
  {
   "cell_type": "code",
   "execution_count": 122,
   "id": "38b023be",
   "metadata": {},
   "outputs": [
    {
     "name": "stdout",
     "output_type": "stream",
     "text": [
      "[[ 0  2  4]\n",
      " [ 5  7  9]\n",
      " [10 12 14]\n",
      " [15 17 19]\n",
      " [20 22 24]]\n"
     ]
    }
   ],
   "source": [
    "print(c[:5, ::2])"
   ]
  },
  {
   "cell_type": "code",
   "execution_count": 129,
   "id": "87e5d2bc",
   "metadata": {},
   "outputs": [
    {
     "name": "stdout",
     "output_type": "stream",
     "text": [
      "[[0 1]\n",
      " [2 3]\n",
      " [4 5]\n",
      " [6 7]\n",
      " [8 9]]\n"
     ]
    }
   ],
   "source": [
    "print(c[:2].reshape(5,2))"
   ]
  },
  {
   "cell_type": "code",
   "execution_count": 133,
   "id": "c9b0e786",
   "metadata": {},
   "outputs": [
    {
     "name": "stdout",
     "output_type": "stream",
     "text": [
      "[[[0.63067933 0.16943521]\n",
      "  [0.90335719 0.92792879]]\n",
      "\n",
      " [[0.39771109 0.50749807]\n",
      "  [0.18503364 0.2933868 ]]]\n"
     ]
    }
   ],
   "source": [
    "d = np.random.rand(8).reshape(2, 2, 2)\n",
    "print(d)"
   ]
  },
  {
   "cell_type": "code",
   "execution_count": 170,
   "id": "ca917778",
   "metadata": {},
   "outputs": [
    {
     "name": "stdout",
     "output_type": "stream",
     "text": [
      " d 배열의 최대값 :  0.9279287883462869\n"
     ]
    }
   ],
   "source": [
    "import math\n",
    "# k = max(map(max, d))\n",
    "#  d.argmax()\n",
    "d = d.reshape(1, 8)\n",
    "d = max(d[:7])\n",
    "print(' d 배열의 최대값 : ', max(d))"
   ]
  },
  {
   "cell_type": "code",
   "execution_count": null,
   "id": "2bdb6eac",
   "metadata": {},
   "outputs": [],
   "source": []
  }
 ],
 "metadata": {
  "kernelspec": {
   "display_name": "sseun",
   "language": "python",
   "name": "seun"
  },
  "language_info": {
   "codemirror_mode": {
    "name": "ipython",
    "version": 3
   },
   "file_extension": ".py",
   "mimetype": "text/x-python",
   "name": "python",
   "nbconvert_exporter": "python",
   "pygments_lexer": "ipython3",
   "version": "3.7.10"
  }
 },
 "nbformat": 4,
 "nbformat_minor": 5
}
