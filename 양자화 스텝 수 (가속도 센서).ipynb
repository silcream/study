{
 "cells": [
  {
   "cell_type": "code",
   "execution_count": 1,
   "id": "fc98d1ca",
   "metadata": {},
   "outputs": [],
   "source": [
    "import pandas as pd\n",
    "import numpy as np\n",
    "\n",
    "df = pd.read_csv('C:/Users/Flora/데이터수집/CW01_2021_12_09_13_31_12.csv')"
   ]
  },
  {
   "cell_type": "code",
   "execution_count": 2,
   "id": "94346285",
   "metadata": {},
   "outputs": [],
   "source": [
    "axis1 = df['Axis_1']\n",
    "axis2 = df['Axis_2']\n",
    "axis3 = df['Axis_3']\n",
    "sound = df['Sound']"
   ]
  },
  {
   "cell_type": "code",
   "execution_count": 3,
   "id": "f5dfe8d0",
   "metadata": {},
   "outputs": [
    {
     "data": {
      "text/plain": [
       "0    0.124979\n",
       "1    0.294562\n",
       "2   -0.159123\n",
       "3    0.082920\n",
       "4   -0.104540\n",
       "Name: Axis_1, dtype: float64"
      ]
     },
     "execution_count": 3,
     "metadata": {},
     "output_type": "execute_result"
    }
   ],
   "source": [
    "axis1.head()"
   ]
  },
  {
   "cell_type": "code",
   "execution_count": 6,
   "id": "58a49af2",
   "metadata": {},
   "outputs": [
    {
     "data": {
      "text/plain": [
       "count    256000.000000\n",
       "mean          0.029095\n",
       "std           0.191856\n",
       "min          -0.513214\n",
       "25%          -0.079821\n",
       "50%           0.013376\n",
       "75%           0.108696\n",
       "max           0.513341\n",
       "Name: Axis_1, dtype: float64"
      ]
     },
     "execution_count": 6,
     "metadata": {},
     "output_type": "execute_result"
    }
   ],
   "source": [
    "axis1.describe()"
   ]
  },
  {
   "cell_type": "code",
   "execution_count": 14,
   "id": "7dfc489f",
   "metadata": {},
   "outputs": [],
   "source": [
    "df2 = df.drop_duplicates(['Axis_1'])"
   ]
  },
  {
   "cell_type": "code",
   "execution_count": 15,
   "id": "b85dbf5e",
   "metadata": {},
   "outputs": [
    {
     "data": {
      "text/plain": [
       "count    233548.000000\n",
       "mean          0.021694\n",
       "std           0.140206\n",
       "min          -0.513214\n",
       "25%          -0.076645\n",
       "50%           0.010580\n",
       "75%           0.095640\n",
       "max           0.513341\n",
       "Name: Axis_1, dtype: float64"
      ]
     },
     "execution_count": 15,
     "metadata": {},
     "output_type": "execute_result"
    }
   ],
   "source": [
    "axis1 = df2['Axis_1']\n",
    "axis1.describe()"
   ]
  },
  {
   "cell_type": "code",
   "execution_count": null,
   "id": "0a281e6b",
   "metadata": {},
   "outputs": [],
   "source": []
  }
 ],
 "metadata": {
  "kernelspec": {
   "display_name": "sseun",
   "language": "python",
   "name": "seun"
  },
  "language_info": {
   "codemirror_mode": {
    "name": "ipython",
    "version": 3
   },
   "file_extension": ".py",
   "mimetype": "text/x-python",
   "name": "python",
   "nbconvert_exporter": "python",
   "pygments_lexer": "ipython3",
   "version": "3.7.10"
  }
 },
 "nbformat": 4,
 "nbformat_minor": 5
}
