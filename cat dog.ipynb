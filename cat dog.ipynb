{
 "cells": [
  {
   "cell_type": "code",
   "execution_count": 1,
   "id": "07607420",
   "metadata": {},
   "outputs": [],
   "source": [
    "!pip install -q efficientnet"
   ]
  },
  {
   "cell_type": "code",
   "execution_count": 2,
   "id": "e645ac2d",
   "metadata": {},
   "outputs": [],
   "source": [
    "import warnings\n",
    "warnings.filterwarnings('ignore')\n",
    "\n",
    "import tensorflow as tf\n",
    "from tensorflow.keras.preprocessing.image import ImageDataGenerator\n",
    "from tensorflow.keras import layers, models, optimizers\n",
    "from tensorflow.keras.callbacks import EarlyStopping, ReduceLROnPlateau\n",
    "from tensorflow.keras.optimizers import RMSprop, Adam\n",
    "import efficientnet.tfkeras as efn\n",
    "\n",
    "import os, re, random, time, gc, glob, tqdm\n",
    "import numpy as np\n",
    "import pandas as pd\n",
    "import seaborn as sns\n",
    "import matplotlib.pyplot as plt\n",
    "from sklearn.metrics import log_loss, accuracy_score\n",
    "import numpy as np\n",
    "import matplotlib.pyplot as plt\n",
    "from PIL import Image"
   ]
  },
  {
   "cell_type": "code",
   "execution_count": 3,
   "id": "d5cf6c60",
   "metadata": {},
   "outputs": [],
   "source": [
    "train_dir = 'C:/Users/Flora/빅데이터분석공부/dog-vs-cat-classification/train/train'\n",
    "test_dir = 'C:/Users/Flora/빅데이터분석공부/dog-vs-cat-classification/test/test'"
   ]
  },
  {
   "cell_type": "code",
   "execution_count": 4,
   "id": "64c757a2",
   "metadata": {},
   "outputs": [],
   "source": [
    "train_images = [f for f in glob.glob(train_dir + \"/*/*.jpg\")]\n",
    "test_images = [f for f in glob.glob(test_dir + \"/*/*.jpg\")]"
   ]
  },
  {
   "cell_type": "code",
   "execution_count": 5,
   "id": "0063418b",
   "metadata": {},
   "outputs": [],
   "source": [
    "train_images.sort() \n",
    "test_images.sort()\n",
    "\n",
    "random.seed(2022)\n",
    "random.shuffle(train_images)"
   ]
  },
  {
   "cell_type": "code",
   "execution_count": 7,
   "id": "d94d362e",
   "metadata": {},
   "outputs": [],
   "source": [
    "df = pd.DataFrame({'image_path': [f for f in train_images], 'label': ['dog' if \"dog\" in os.path.basename(f) else 'cat' for f in train_images]})\n",
    "df['split'] = 'train'\n",
    "\n",
    "train_labels = df.label"
   ]
  },
  {
   "cell_type": "code",
   "execution_count": 10,
   "id": "c31a288f",
   "metadata": {},
   "outputs": [
    {
     "data": {
      "text/html": [
       "<div>\n",
       "<style scoped>\n",
       "    .dataframe tbody tr th:only-of-type {\n",
       "        vertical-align: middle;\n",
       "    }\n",
       "\n",
       "    .dataframe tbody tr th {\n",
       "        vertical-align: top;\n",
       "    }\n",
       "\n",
       "    .dataframe thead th {\n",
       "        text-align: right;\n",
       "    }\n",
       "</style>\n",
       "<table border=\"1\" class=\"dataframe\">\n",
       "  <thead>\n",
       "    <tr style=\"text-align: right;\">\n",
       "      <th></th>\n",
       "      <th>image_path</th>\n",
       "      <th>label</th>\n",
       "      <th>split</th>\n",
       "    </tr>\n",
       "  </thead>\n",
       "  <tbody>\n",
       "    <tr>\n",
       "      <th>0</th>\n",
       "      <td>C:/Users/Flora/빅데이터분석공부/dog-vs-cat-classificat...</td>\n",
       "      <td>dog</td>\n",
       "      <td>train</td>\n",
       "    </tr>\n",
       "    <tr>\n",
       "      <th>1</th>\n",
       "      <td>C:/Users/Flora/빅데이터분석공부/dog-vs-cat-classificat...</td>\n",
       "      <td>dog</td>\n",
       "      <td>train</td>\n",
       "    </tr>\n",
       "    <tr>\n",
       "      <th>2</th>\n",
       "      <td>C:/Users/Flora/빅데이터분석공부/dog-vs-cat-classificat...</td>\n",
       "      <td>cat</td>\n",
       "      <td>train</td>\n",
       "    </tr>\n",
       "    <tr>\n",
       "      <th>3</th>\n",
       "      <td>C:/Users/Flora/빅데이터분석공부/dog-vs-cat-classificat...</td>\n",
       "      <td>dog</td>\n",
       "      <td>train</td>\n",
       "    </tr>\n",
       "    <tr>\n",
       "      <th>4</th>\n",
       "      <td>C:/Users/Flora/빅데이터분석공부/dog-vs-cat-classificat...</td>\n",
       "      <td>dog</td>\n",
       "      <td>train</td>\n",
       "    </tr>\n",
       "  </tbody>\n",
       "</table>\n",
       "</div>"
      ],
      "text/plain": [
       "                                          image_path label  split\n",
       "0  C:/Users/Flora/빅데이터분석공부/dog-vs-cat-classificat...   dog  train\n",
       "1  C:/Users/Flora/빅데이터분석공부/dog-vs-cat-classificat...   dog  train\n",
       "2  C:/Users/Flora/빅데이터분석공부/dog-vs-cat-classificat...   cat  train\n",
       "3  C:/Users/Flora/빅데이터분석공부/dog-vs-cat-classificat...   dog  train\n",
       "4  C:/Users/Flora/빅데이터분석공부/dog-vs-cat-classificat...   dog  train"
      ]
     },
     "execution_count": 10,
     "metadata": {},
     "output_type": "execute_result"
    }
   ],
   "source": [
    "df.head()"
   ]
  },
  {
   "cell_type": "code",
   "execution_count": 14,
   "id": "23513d69",
   "metadata": {},
   "outputs": [
    {
     "name": "stdout",
     "output_type": "stream",
     "text": [
      "25000\n"
     ]
    }
   ],
   "source": [
    "print(len(train_labels))"
   ]
  },
  {
   "cell_type": "code",
   "execution_count": 15,
   "id": "d765a544",
   "metadata": {},
   "outputs": [
    {
     "name": "stdout",
     "output_type": "stream",
     "text": [
      "C:/Users/Flora/빅데이터분석공부/dog-vs-cat-classification/train/train\\dogs\\dog.3700.jpg\n"
     ]
    }
   ],
   "source": [
    "print(train_images[0])"
   ]
  },
  {
   "cell_type": "code",
   "execution_count": 11,
   "id": "3f1bc88b",
   "metadata": {},
   "outputs": [],
   "source": [
    "np.random.seed(2022)\n",
    "index_list = np.arange(0, len(train_labels))\n",
    "valid_index = np.random.choice(index_list, size = 5000, replace = False)"
   ]
  },
  {
   "cell_type": "code",
   "execution_count": 12,
   "id": "962e03bc",
   "metadata": {},
   "outputs": [
    {
     "ename": "TypeError",
     "evalue": "only integer scalar arrays can be converted to a scalar index",
     "output_type": "error",
     "traceback": [
      "\u001b[1;31m---------------------------------------------------------------------------\u001b[0m",
      "\u001b[1;31mTypeError\u001b[0m                                 Traceback (most recent call last)",
      "\u001b[1;32m~\\AppData\\Local\\Temp/ipykernel_25676/4252317034.py\u001b[0m in \u001b[0;36m<module>\u001b[1;34m\u001b[0m\n\u001b[1;32m----> 1\u001b[1;33m \u001b[0mvalid_images\u001b[0m \u001b[1;33m=\u001b[0m \u001b[0mtrain_images\u001b[0m\u001b[1;33m[\u001b[0m\u001b[0mvalid_index\u001b[0m\u001b[1;33m]\u001b[0m\u001b[1;33m\u001b[0m\u001b[1;33m\u001b[0m\u001b[0m\n\u001b[0m\u001b[0;32m      2\u001b[0m \u001b[0mvalid_labels\u001b[0m \u001b[1;33m=\u001b[0m \u001b[0mtrain_labels\u001b[0m\u001b[1;33m[\u001b[0m\u001b[0mvalid_index\u001b[0m\u001b[1;33m]\u001b[0m\u001b[1;33m\u001b[0m\u001b[1;33m\u001b[0m\u001b[0m\n",
      "\u001b[1;31mTypeError\u001b[0m: only integer scalar arrays can be converted to a scalar index"
     ]
    }
   ],
   "source": [
    "valid_images = train_images[valid_index]\n",
    "valid_labels = train_labels[valid_index]"
   ]
  },
  {
   "cell_type": "code",
   "execution_count": null,
   "id": "f2782655",
   "metadata": {},
   "outputs": [],
   "source": []
  },
  {
   "cell_type": "code",
   "execution_count": null,
   "id": "cfbef5e9",
   "metadata": {},
   "outputs": [],
   "source": []
  },
  {
   "cell_type": "code",
   "execution_count": null,
   "id": "03a17605",
   "metadata": {},
   "outputs": [],
   "source": []
  },
  {
   "cell_type": "code",
   "execution_count": null,
   "id": "315ea707",
   "metadata": {},
   "outputs": [],
   "source": [
    "train_cats_dir = os.path.join(train_dir, 'cats')\n",
    "train_dogs_dir = os.path.join(train_dir, 'dogs')"
   ]
  },
  {
   "cell_type": "code",
   "execution_count": null,
   "id": "4b061d69",
   "metadata": {},
   "outputs": [],
   "source": [
    "print('Total training cat images :', len(os.listdir(train_cats_dir)))\n",
    "print('Total training dog images :', len(os.listdir(train_dogs_dir)))"
   ]
  },
  {
   "cell_type": "code",
   "execution_count": null,
   "id": "5ca48bb1",
   "metadata": {},
   "outputs": [],
   "source": [
    "df.shape"
   ]
  },
  {
   "cell_type": "code",
   "execution_count": null,
   "id": "c67dfc0f",
   "metadata": {},
   "outputs": [],
   "source": [
    "image = Image.open('C:/Users/Flora/빅데이터분석공부/dog-vs-cat-classification/train/train/dogs/dog.0.jpg')\n",
    "plt.imshow(image) #여기까지만 하고 실행시키면 이상한 문자 뜸\n",
    "plt.show()"
   ]
  },
  {
   "cell_type": "code",
   "execution_count": null,
   "id": "6f423700",
   "metadata": {},
   "outputs": [],
   "source": [
    "import tensorflow as tf\n",
    "from tensorflow.keras import Model"
   ]
  },
  {
   "cell_type": "code",
   "execution_count": null,
   "id": "815288fd",
   "metadata": {},
   "outputs": [],
   "source": [
    "from tensorflow.keras.models import Sequential\n",
    "from tensorflow.keras.layers import Dense\n",
    "from keras.layers import LSTM"
   ]
  },
  {
   "cell_type": "code",
   "execution_count": null,
   "id": "381c9a3d",
   "metadata": {},
   "outputs": [],
   "source": [
    "import numpy as np\n",
    "import tensorflow as tf\n",
    "from tensorflow import keras\n",
    "from tensorflow.keras import layers"
   ]
  },
  {
   "cell_type": "code",
   "execution_count": null,
   "id": "880497ad",
   "metadata": {},
   "outputs": [],
   "source": [
    "# model = keras.Sequential()\n",
    "# model.add(layers.Embedding(input_dim=1000, output_dim=64))\n",
    "\n",
    "# # The output of GRU will be a 3D tensor of shape (batch_size, timesteps, 256)\n",
    "# model.add(layers.GRU(256, return_sequences=True))\n",
    "\n",
    "# # The output of SimpleRNN will be a 2D tensor of shape (batch_size, 128)\n",
    "# model.add(layers.SimpleRNN(128))\n",
    "\n",
    "# model.add(layers.Dense(10))\n",
    "\n",
    "# model.summary()"
   ]
  },
  {
   "cell_type": "code",
   "execution_count": null,
   "id": "b53ec67d",
   "metadata": {},
   "outputs": [],
   "source": [
    "# model.summamodel = Sequential()\n",
    "# model.add(layers.Dense(64, activation = 'relu', input_shape = (df.shape[1],)))\n",
    "# model.add(Dense(64, activation = 'relu'))\n",
    "# model.add(Dense(1))\n",
    "# model.compile(optimizer = 'rmsprop', loss = 'mse', metrics = ['mae'])\n",
    " \n",
    "# model.summary()\n"
   ]
  },
  {
   "cell_type": "code",
   "execution_count": null,
   "id": "ecbdf7d7",
   "metadata": {},
   "outputs": [],
   "source": [
    "model = keras.models.Sequential()\n",
    "model.add(keras.layers.Flatten(input_shape = [28, 28], name = 'Flatten'))\n",
    "model.add(Dense(300, activation = 'relu', name = 'Hidden1'))\n",
    "model.add(Dense(200, activation = 'relu', name = 'Hidden2'))\n",
    "model.add(Dense(100, activation = 'relu', name = 'Hidden3'))\n",
    "model.add(Dense(10, activation = 'softmax', name = 'Output'))\n",
    "model.summary()"
   ]
  },
  {
   "cell_type": "code",
   "execution_count": null,
   "id": "a88faeca",
   "metadata": {},
   "outputs": [],
   "source": [
    "opt = keras.optimizers.Adam(learning_rate = 0.005)\n",
    "model.compile(optimizer = opt,\n",
    "             loss = 'sparse_categorical_crossentropy',\n",
    "             metrics = ['accuracy'])"
   ]
  },
  {
   "cell_type": "code",
   "execution_count": null,
   "id": "a02b8909",
   "metadata": {},
   "outputs": [],
   "source": [
    "early_stop = keras.callbacks.EarlyStopping(monitor = 'val_loss', min_delta = 0, patience = 10, restore_best_weights = True)\n",
    "histoty = model.fit(train_images, train_labels,\n",
    "                    epochs = 100,\n",
    "                    batch_size = 1000,\n",
    "                    validation_data = (valid_images, valid_labels),\n",
    "                    callbacks = [early_stop])"
   ]
  }
 ],
 "metadata": {
  "kernelspec": {
   "display_name": "Python 3 (ipykernel)",
   "language": "python",
   "name": "python3"
  },
  "language_info": {
   "codemirror_mode": {
    "name": "ipython",
    "version": 3
   },
   "file_extension": ".py",
   "mimetype": "text/x-python",
   "name": "python",
   "nbconvert_exporter": "python",
   "pygments_lexer": "ipython3",
   "version": "3.7.10"
  }
 },
 "nbformat": 4,
 "nbformat_minor": 5
}
