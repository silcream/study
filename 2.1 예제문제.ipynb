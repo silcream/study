{
 "cells": [
  {
   "cell_type": "code",
   "execution_count": 1,
   "id": "2117dd43",
   "metadata": {},
   "outputs": [],
   "source": [
    "animals = ['lion', 'tiger', 'cat']\n",
    "animals.sort()"
   ]
  },
  {
   "cell_type": "code",
   "execution_count": 2,
   "id": "005ff16d",
   "metadata": {},
   "outputs": [
    {
     "data": {
      "text/plain": [
       "['cat', 'lion', 'tiger']"
      ]
     },
     "execution_count": 2,
     "metadata": {},
     "output_type": "execute_result"
    }
   ],
   "source": [
    "animals"
   ]
  },
  {
   "cell_type": "code",
   "execution_count": 5,
   "id": "76184aa9",
   "metadata": {},
   "outputs": [],
   "source": [
    "num = 3029"
   ]
  },
  {
   "cell_type": "code",
   "execution_count": 7,
   "id": "af7f29ef",
   "metadata": {},
   "outputs": [
    {
     "name": "stdout",
     "output_type": "stream",
     "text": [
      "9087\n"
     ]
    }
   ],
   "source": [
    "num += 3029\n",
    "print(num)"
   ]
  },
  {
   "cell_type": "code",
   "execution_count": null,
   "id": "4f67d928",
   "metadata": {},
   "outputs": [],
   "source": []
  }
 ],
 "metadata": {
  "kernelspec": {
   "display_name": "sseun",
   "language": "python",
   "name": "seun"
  },
  "language_info": {
   "codemirror_mode": {
    "name": "ipython",
    "version": 3
   },
   "file_extension": ".py",
   "mimetype": "text/x-python",
   "name": "python",
   "nbconvert_exporter": "python",
   "pygments_lexer": "ipython3",
   "version": "3.7.10"
  }
 },
 "nbformat": 4,
 "nbformat_minor": 5
}
