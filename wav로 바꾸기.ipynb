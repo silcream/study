{
 "cells": [
  {
   "cell_type": "code",
   "execution_count": 1,
   "id": "ba4bcdf0",
   "metadata": {},
   "outputs": [],
   "source": [
    "import warnings\n",
    "warnings.filterwarnings('ignore')"
   ]
  },
  {
   "cell_type": "code",
   "execution_count": 43,
   "id": "b94c4f1d",
   "metadata": {
    "scrolled": false
   },
   "outputs": [
    {
     "name": "stdout",
     "output_type": "stream",
     "text": [
      "CW01_2022_02_23_08_54_53\n",
      "CW01_2022_02_23_08_55_03\n",
      "CW01_2022_02_23_08_55_13\n",
      "CW01_2022_02_23_08_55_23\n",
      "CW01_2022_02_23_08_55_33\n",
      "CW01_2022_02_23_08_55_43\n",
      "CW01_2022_02_23_08_55_53\n",
      "CW01_2022_02_23_08_56_03\n",
      "CW01_2022_02_23_08_56_13\n",
      "CW01_2022_02_23_08_56_23\n",
      "CW01_2022_02_23_08_56_33\n",
      "CW01_2022_02_23_08_56_43\n",
      "CW01_2022_02_23_08_56_53\n",
      "CW01_2022_02_23_08_57_03\n",
      "CW01_2022_02_23_08_57_13\n",
      "CW01_2022_02_23_08_57_23\n",
      "CW01_2022_02_23_08_57_33\n",
      "CW01_2022_02_23_08_57_43\n"
     ]
    }
   ],
   "source": [
    "from nptdms import TdmsFile\n",
    "import pandas as pd\n",
    "import numpy as np\n",
    "import matplotlib.pyplot as plt\n",
    "from scipy.io import wavfile\n",
    "import datetime\n",
    "from datetime import timedelta\n",
    "\n",
    "source='CW01_2022_02_23_08_54_53'\n",
    "start_time=datetime.datetime(int(source[5:9]), int(source[10:12]), int(source[13:15]), int(source[16:18]), int(source[19:21]), int(source[22:24]))\n",
    "\n",
    "while 1:\n",
    "    fn=start_time.strftime(\"CW01_%Y_%m_%d_%H_%M_%S\")\n",
    "    print(fn)\n",
    "    \n",
    "    try:\n",
    "        tdms_file=TdmsFile('E:/데이터수집/22_02_23/'+fn+\".tdms\")\n",
    "    except:\n",
    "        break\n",
    "    try:\n",
    "        df = tdms_file[\"CW01\"].as_dataframe()\n",
    "\n",
    "        axis4=df.iloc[:,3]\n",
    "        axis4=axis4.to_numpy()\n",
    "\n",
    "        sr=25600\n",
    "        axis4=np.cast['int16'](axis4*(2**15))\n",
    "\n",
    "        wavfile.write('E:/데이터수집/22_02_23/'+fn+' axis4.wav', sr, axis4)\n",
    "    except:\n",
    "        print(\"pass\")\n",
    "    \n",
    "    start_time=start_time+timedelta(seconds=10)"
   ]
  },
  {
   "cell_type": "code",
   "execution_count": null,
   "id": "c875455e",
   "metadata": {},
   "outputs": [],
   "source": []
  }
 ],
 "metadata": {
  "kernelspec": {
   "display_name": "Python 3 (ipykernel)",
   "language": "python",
   "name": "python3"
  },
  "language_info": {
   "codemirror_mode": {
    "name": "ipython",
    "version": 3
   },
   "file_extension": ".py",
   "mimetype": "text/x-python",
   "name": "python",
   "nbconvert_exporter": "python",
   "pygments_lexer": "ipython3",
   "version": "3.7.10"
  }
 },
 "nbformat": 4,
 "nbformat_minor": 5
}
